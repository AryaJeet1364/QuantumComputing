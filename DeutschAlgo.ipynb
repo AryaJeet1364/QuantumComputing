{
  "nbformat": 4,
  "nbformat_minor": 0,
  "metadata": {
    "colab": {
      "provenance": [],
      "authorship_tag": "ABX9TyOnKIVRDIyn5CKN42cqhaML",
      "include_colab_link": true
    },
    "kernelspec": {
      "name": "python3",
      "display_name": "Python 3"
    },
    "language_info": {
      "name": "python"
    }
  },
  "cells": [
    {
      "cell_type": "markdown",
      "metadata": {
        "id": "view-in-github",
        "colab_type": "text"
      },
      "source": [
        "<a href=\"https://colab.research.google.com/github/AryaJeet1364/QuantumComputing/blob/main/DeutschAlgo.ipynb\" target=\"_parent\"><img src=\"https://colab.research.google.com/assets/colab-badge.svg\" alt=\"Open In Colab\"/></a>"
      ]
    },
    {
      "cell_type": "code",
      "source": [
        "!pip install qiskit -q\n",
        "!pip install qiskit[visualization] -q\n",
        "!pip install qiskit-aer -q"
      ],
      "metadata": {
        "id": "FnIANNwaDPdJ"
      },
      "execution_count": 1,
      "outputs": []
    },
    {
      "cell_type": "code",
      "source": [
        "# Deutsch's Algorithm using Qiskit\n",
        "# ---------------------------------------\n",
        "# The goal: Figure out if a hidden function f(x): {0,1} → {0,1} is\n",
        "# either constant (same result for both inputs) or balanced (different results).\n",
        "# Quantum computers can solve this in ONE query. Classical needs two.\n",
        "\n",
        "from qiskit import QuantumCircuit, transpile\n",
        "from qiskit_aer import AerSimulator\n",
        "from qiskit.visualization import plot_histogram\n",
        "from IPython.display import display\n",
        "import matplotlib.pyplot as plt\n",
        "%matplotlib inline\n",
        "\n",
        "\n",
        "# Build the oracle for different types of functions\n",
        "def create_oracle(ftype):\n",
        "    oracle = QuantumCircuit(2, name=f'Oracle_{ftype}')\n",
        "\n",
        "    if ftype == 'constant_0':\n",
        "        # f(x) = 0 for all x → do nothing\n",
        "        pass\n",
        "\n",
        "    elif ftype == 'constant_1':\n",
        "        # f(x) = 1 for all x → flip the ancilla every time\n",
        "        oracle.x(1)\n",
        "\n",
        "    elif ftype == 'balanced_id':\n",
        "        # f(x) = x → flip ancilla if input is 1\n",
        "        oracle.cx(0, 1)\n",
        "\n",
        "    elif ftype == 'balanced_not':\n",
        "        # f(x) = not x → flip input, then CNOT, then flip input back\n",
        "        oracle.x(0)\n",
        "        oracle.cx(0, 1)\n",
        "        oracle.x(0)\n",
        "\n",
        "    return oracle\n",
        "\n",
        "\n",
        "# Build the full Deutsch algorithm circuit\n",
        "def deutsch_algorithm(oracle):\n",
        "    qc = QuantumCircuit(2, 1)  # 2 qubits, 1 classical bit\n",
        "\n",
        "    # Start with |0⟩|1⟩ → apply Hadamards to create superposition\n",
        "    qc.x(1)      # ancilla in |1⟩\n",
        "    qc.h(0)\n",
        "    qc.h(1)\n",
        "\n",
        "    # Plug in the oracle\n",
        "    qc = qc.compose(oracle)\n",
        "\n",
        "    # Apply Hadamard again to the input qubit\n",
        "    qc.h(0)\n",
        "\n",
        "    # Measure input qubit only (we don’t care about the ancilla)\n",
        "    qc.measure(0, 0)\n",
        "\n",
        "    return qc\n",
        "\n",
        "\n",
        "# Run everything for all 4 types of functions\n",
        "def run_deutsch_algorithm(shots=1000):\n",
        "    print(\"Deutsch Algorithm Demo (Quantum > Classical!)\\n\" + \"-\"*50)\n",
        "\n",
        "    functions = {\n",
        "        'constant_0': 'f(x) = 0',\n",
        "        'constant_1': 'f(x) = 1',\n",
        "        'balanced_id': 'f(x) = x',\n",
        "        'balanced_not': 'f(x) = ¬x'\n",
        "    }\n",
        "\n",
        "    simulator = AerSimulator()\n",
        "    results = {}\n",
        "\n",
        "    for ftype, desc in functions.items():\n",
        "        oracle = create_oracle(ftype)\n",
        "        circuit = deutsch_algorithm(oracle)\n",
        "\n",
        "        # For cleaner visuals\n",
        "        circuit.barrier()\n",
        "\n",
        "        # Transpile to avoid simulator errors\n",
        "        t_circuit = transpile(circuit, simulator)\n",
        "\n",
        "        job = simulator.run(t_circuit, shots=shots)\n",
        "        result = job.result()\n",
        "        counts = result.get_counts()\n",
        "\n",
        "        # Decide based on measurement result (which count is higher)\n",
        "        if counts.get('0', 0) > counts.get('1', 0):\n",
        "            result_type = 'CONSTANT'\n",
        "        else:\n",
        "            result_type = 'BALANCED'\n",
        "\n",
        "        results[ftype] = {\n",
        "            'desc': desc,\n",
        "            'type': result_type,\n",
        "            'counts': counts,\n",
        "            'circuit': circuit\n",
        "        }\n",
        "\n",
        "        print(f\"{desc:20} ➝ {result_type}\")\n",
        "\n",
        "    print(\"\\nClassical method would require 2 queries per function.\")\n",
        "    print(\"Quantum method pulls it off with just ONE query. 🎯\")\n",
        "\n",
        "    return results\n",
        "\n",
        "\n",
        "# Walkthrough of the algorithm (casual explanation)\n",
        "def explain_deutsch():\n",
        "    print(\"\"\"\n",
        "HOW IT WORKS (Deutsch Algorithm):\n",
        "\n",
        "1. We set up two qubits: one input and one ancilla (used for magic).\n",
        "2. We apply Hadamards to create a mix of inputs — quantum superposition.\n",
        "3. We run the oracle, which flips phase based on f(x) (this is the tricky part).\n",
        "4. Another Hadamard on the input qubit causes interference.\n",
        "5. A final measurement tells us everything:\n",
        "   - If we get 0 → f is constant\n",
        "   - If we get 1 → f is balanced\n",
        "\n",
        "All this with just ONE call to the function. Quantum flex 😎\n",
        "\"\"\")\n",
        "\n",
        "\n",
        "# Visualize circuits and measurement results\n",
        "def visualize_results(results):\n",
        "    print(\"\\nCircuit diagrams and measurements:\")\n",
        "\n",
        "    for key, data in results.items():\n",
        "        print(f\"\\nFunction: {data['desc']}\")\n",
        "        print(f\"Prediction: {data['type']}\")\n",
        "        print(f\"Counts: {data['counts']}\")\n",
        "\n",
        "        # Display the circuit diagram\n",
        "        display(data['circuit'].draw('mpl'))\n",
        "\n",
        "\n",
        "# Driver code\n",
        "if __name__ == \"__main__\":\n",
        "    results = run_deutsch_algorithm()\n",
        "    explain_deutsch()\n",
        "    visualize_results(results)\n"
      ],
      "metadata": {
        "colab": {
          "base_uri": "https://localhost:8080/",
          "height": 1000
        },
        "id": "HWfSzBxADmkj",
        "outputId": "ca9ba566-1c88-427d-b9dd-d554fbc852d9"
      },
      "execution_count": 2,
      "outputs": [
        {
          "output_type": "stream",
          "name": "stdout",
          "text": [
            "Deutsch Algorithm Demo (Quantum > Classical!)\n",
            "--------------------------------------------------\n",
            "f(x) = 0             ➝ CONSTANT\n",
            "f(x) = 1             ➝ CONSTANT\n",
            "f(x) = x             ➝ BALANCED\n",
            "f(x) = ¬x            ➝ BALANCED\n",
            "\n",
            "Classical method would require 2 queries per function.\n",
            "Quantum method pulls it off with just ONE query. 🎯\n",
            "\n",
            "HOW IT WORKS (Deutsch Algorithm):\n",
            "\n",
            "1. We set up two qubits: one input and one ancilla (used for magic).\n",
            "2. We apply Hadamards to create a mix of inputs — quantum superposition.\n",
            "3. We run the oracle, which flips phase based on f(x) (this is the tricky part).\n",
            "4. Another Hadamard on the input qubit causes interference.\n",
            "5. A final measurement tells us everything:\n",
            "   - If we get 0 → f is constant\n",
            "   - If we get 1 → f is balanced\n",
            "\n",
            "All this with just ONE call to the function. Quantum flex 😎\n",
            "\n",
            "\n",
            "Circuit diagrams and measurements:\n",
            "\n",
            "Function: f(x) = 0\n",
            "Prediction: CONSTANT\n",
            "Counts: {'0': 1000}\n"
          ]
        },
        {
          "output_type": "display_data",
          "data": {
            "text/plain": [
              "<Figure size 454.517x284.278 with 1 Axes>"
            ],
            "image/png": "[encoded data removed]"
          },
          "metadata": {}
        },
        {
          "output_type": "stream",
          "name": "stdout",
          "text": [
            "\n",
            "Function: f(x) = 1\n",
            "Prediction: CONSTANT\n",
            "Counts: {'0': 1000}\n"
          ]
        },
        {
          "output_type": "display_data",
          "data": {
            "text/plain": [
              "<Figure size 538.128x284.278 with 1 Axes>"
            ],
            "image/png": "[encoded data removed]"
          },
          "metadata": {}
        },
        {
          "output_type": "stream",
          "name": "stdout",
          "text": [
            "\n",
            "Function: f(x) = x\n",
            "Prediction: BALANCED\n",
            "Counts: {'1': 1000}\n"
          ]
        },
        {
          "output_type": "display_data",
          "data": {
            "text/plain": [
              "<Figure size 621.739x284.278 with 1 Axes>"
            ],
            "image/png": "[encoded data removed]"
          },
          "metadata": {}
        },
        {
          "output_type": "stream",
          "name": "stdout",
          "text": [
            "\n",
            "Function: f(x) = ¬x\n",
            "Prediction: BALANCED\n",
            "Counts: {'1': 1000}\n"
          ]
        },
        {
          "output_type": "display_data",
          "data": {
            "text/plain": [
              "<Figure size 705.35x284.278 with 1 Axes>"
            ],
            "image/png": "[encoded data removed]"
          },
          "metadata": {}
        }
      ]
    },
    {
      "cell_type": "code",
      "source": [],
      "metadata": {
        "id": "GMXj4p4lE-ot"
      },
      "execution_count": 2,
      "outputs": []
    }
  ]
}