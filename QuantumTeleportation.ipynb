{
  "nbformat": 4,
  "nbformat_minor": 0,
  "metadata": {
    "colab": {
      "provenance": [],
      "authorship_tag": "ABX9TyNXw58VeQB1yz7ykvqmoh2I",
      "include_colab_link": true
    },
    "kernelspec": {
      "name": "python3",
      "display_name": "Python 3"
    },
    "language_info": {
      "name": "python"
    }
  },
  "cells": [
    {
      "cell_type": "markdown",
      "metadata": {
        "id": "view-in-github",
        "colab_type": "text"
      },
      "source": [
        "<a href=\"https://colab.research.google.com/github/AryaJeet1364/QuantumComputing/blob/main/QuantumTeleportation.ipynb\" target=\"_parent\"><img src=\"https://colab.research.google.com/assets/colab-badge.svg\" alt=\"Open In Colab\"/></a>"
      ]
    },
    {
      "cell_type": "markdown",
      "source": [
        "Quantum Teleportation"
      ],
      "metadata": {
        "id": "iqDZknsJLLIc"
      }
    },
    {
      "cell_type": "code",
      "execution_count": 1,
      "metadata": {
        "id": "yiSPn0FHJ9Sc"
      },
      "outputs": [],
      "source": [
        "!pip install qiskit -q\n",
        "!pip install qiskit[visualization] -q\n",
        "import qiskit as qk\n",
        "\n",
        "!pip install qiskit-aer -q\n",
        "import qiskit_aer as qk_aer\n",
        "\n",
        "from matplotlib import pyplot as plt\n",
        "%matplotlib inline"
      ]
    },
    {
      "cell_type": "code",
      "source": [
        "import qiskit as qk\n",
        "from qiskit_aer import AerSimulator\n",
        "from qiskit.visualization import plot_histogram\n",
        "from IPython.display import display\n",
        "from qiskit import QuantumCircuit, QuantumRegister, ClassicalRegister, transpile\n",
        "from qiskit.quantum_info import Statevector, partial_trace, state_fidelity\n",
        "from math import pi"
      ],
      "metadata": {
        "id": "SGbYJt8XL98j"
      },
      "execution_count": 2,
      "outputs": []
    },
    {
      "cell_type": "code",
      "source": [
        "import numpy as np"
      ],
      "metadata": {
        "id": "bFfNeJRIYfL8"
      },
      "execution_count": 3,
      "outputs": []
    },
    {
      "cell_type": "code",
      "source": [
        "def quantum_teleportation():\n",
        "    \"\"\"\n",
        "    Complete implementation of quantum teleportation protocol using Qiskit.\n",
        "\n",
        "    The quantum teleportation protocol allows us to transfer the quantum state of\n",
        "    one qubit to another qubit at a distant location, using entanglement and\n",
        "    classical communication. The original qubit's state is destroyed in the process.\n",
        "\n",
        "    Protocol overview:\n",
        "    1. Create an unknown quantum state |ψ⟩ to be teleported\n",
        "    2. Create an entangled Bell pair between Alice and Bob\n",
        "    3. Alice performs a Bell measurement on her qubit and the state to teleport\n",
        "    4. Alice sends classical bits to Bob based on measurement results\n",
        "    5. Bob applies corrections based on Alice's classical bits\n",
        "    6. The original state is now teleported to Bob's qubit\n",
        "    \"\"\"\n",
        "\n",
        "    # Create quantum and classical registers\n",
        "    # We need 3 qubits: one for the state to teleport, and two for the Bell pair\n",
        "    qreg = QuantumRegister(3, 'q')\n",
        "    creg = ClassicalRegister(3, 'c')  # Classical bits to store measurement results\n",
        "\n",
        "    # Create the quantum circuit\n",
        "    qc = QuantumCircuit(qreg, creg)\n",
        "\n",
        "    # === STEP 1: Prepare the unknown state |ψ⟩ to be teleported ===\n",
        "    # For demonstration, we'll create a superposition state: α|0⟩ + β|1⟩\n",
        "    # Let's use specific values: |ψ⟩ = (1/√2)|0⟩ + (i/√2)|1⟩\n",
        "    # This is equivalent to applying RY(π/2) followed by a phase gate\n",
        "\n",
        "    qc.ry(np.pi/2, qreg[0])  # Rotate around Y-axis to create superposition\n",
        "    qc.s(qreg[0])            # Apply S gate (phase gate) to add phase\n",
        "\n",
        "    # Add a barrier for visual clarity in the circuit diagram\n",
        "    qc.barrier()\n",
        "\n",
        "    # === STEP 2: Create entangled Bell pair between Alice (q1) and Bob (q2) ===\n",
        "    # The Bell state we create is |Φ+⟩ = (1/√2)(|00⟩ + |11⟩)\n",
        "    # This is the maximally entangled state that enables teleportation\n",
        "\n",
        "    qc.h(qreg[1])           # Apply Hadamard to qubit 1 (Alice's part of Bell pair)\n",
        "    qc.cx(qreg[1], qreg[2]) # CNOT gate creates entanglement between Alice and Bob\n",
        "\n",
        "    qc.barrier()\n",
        "\n",
        "    # === STEP 3: Alice's Bell measurement ===\n",
        "    # Alice now has two qubits: the original state |ψ⟩ (q0) and her part of\n",
        "    # the Bell pair (q1). She performs a Bell state measurement on these two qubits.\n",
        "    # This measurement projects the two-qubit system onto one of the four Bell states.\n",
        "\n",
        "    # First, apply CNOT with the original state as control and Alice's Bell qubit as target\n",
        "    qc.cx(qreg[0], qreg[1])\n",
        "\n",
        "    # Then apply Hadamard to the original state qubit\n",
        "    qc.h(qreg[0])\n",
        "\n",
        "    qc.barrier()\n",
        "\n",
        "    # === STEP 4: Alice measures her qubits and gets classical bits ===\n",
        "    # The measurement results will determine what correction Bob needs to apply\n",
        "    # There are 4 possible outcomes (00, 01, 10, 11), each occurring with 25% probability\n",
        "\n",
        "    qc.measure(qreg[0], creg[0])  # Measure original state qubit\n",
        "    qc.measure(qreg[1], creg[1])  # Measure Alice's Bell pair qubit\n",
        "\n",
        "    qc.barrier()\n",
        "\n",
        "    # === STEP 5: Bob applies corrections based on Alice's measurement results ===\n",
        "    # Based on Alice's classical bits, Bob needs to apply specific gates to recover |ψ⟩\n",
        "    # - If Alice measured 00: Bob does nothing (identity operation)\n",
        "    # - If Alice measured 01: Bob applies X gate (bit flip)\n",
        "    # - If Alice measured 10: Bob applies Z gate (phase flip)\n",
        "    # - If Alice measured 11: Bob applies both X and Z gates\n",
        "\n",
        "    # These are conditional operations based on classical measurement results\n",
        "    # In modern Qiskit, we add conditional gates using the circuit method with condition parameter\n",
        "    with qc.if_test((creg[1], 1)):  # If Alice's second measurement result is 1\n",
        "        qc.x(qreg[2])  # Apply X gate to Bob's qubit\n",
        "\n",
        "    with qc.if_test((creg[0], 1)):  # If Alice's first measurement result is 1\n",
        "        qc.z(qreg[2])  # Apply Z gate to Bob's qubit\n",
        "\n",
        "\n",
        "    qc.barrier()\n",
        "\n",
        "    # === STEP 6: Measure Bob's qubit to verify the teleportation ===\n",
        "    # At this point, Bob's qubit should be in the same state as the original |ψ⟩\n",
        "    qc.measure(qreg[2], creg[2])\n",
        "\n",
        "    return qc"
      ],
      "metadata": {
        "id": "gRxHCMi0M3zy"
      },
      "execution_count": 4,
      "outputs": []
    },
    {
      "cell_type": "code",
      "source": [
        "def verify_teleportation():\n",
        "    \"\"\"\n",
        "    Verify that quantum teleportation worked by comparing the probability\n",
        "    distributions of the original state and the teleported state.\n",
        "    \"\"\"\n",
        "\n",
        "    # Create the teleportation circuit\n",
        "    teleport_circuit = quantum_teleportation()\n",
        "\n",
        "    # Also create a reference circuit with just the original state preparation\n",
        "    # This will help us verify that the teleportation preserved the state\n",
        "    qreg_ref = QuantumRegister(1, 'q_ref')\n",
        "    creg_ref = ClassicalRegister(1, 'c_ref')\n",
        "    reference_circuit = QuantumCircuit(qreg_ref, creg_ref)\n",
        "\n",
        "    # Prepare the same state as in the teleportation protocol\n",
        "    reference_circuit.ry(np.pi/2, qreg_ref[0])\n",
        "    reference_circuit.s(qreg_ref[0])\n",
        "    reference_circuit.measure(qreg_ref[0], creg_ref[0])\n",
        "\n",
        "    # Set up the simulator\n",
        "    simulator = AerSimulator()\n",
        "\n",
        "    # Run both circuits multiple times to get statistics\n",
        "    shots = 8192\n",
        "\n",
        "    # Execute the teleportation circuit\n",
        "    teleport_job = simulator.run(transpile(teleport_circuit, simulator), shots=shots)\n",
        "    teleport_result = teleport_job.result()\n",
        "    teleport_counts = teleport_result.get_counts()\n",
        "\n",
        "    # Execute the reference circuit\n",
        "    ref_job = simulator.run(transpile(reference_circuit, simulator), shots=shots)\n",
        "    ref_result = ref_job.result()\n",
        "    ref_counts = ref_result.get_counts()\n",
        "\n",
        "    # Extract the relevant measurement results\n",
        "    # For teleportation: we care about the last bit (Bob's final measurement)\n",
        "    # For reference: we care about the single measurement result\n",
        "\n",
        "    teleport_final_counts = {'0': 0, '1': 0}\n",
        "    for outcome, count in teleport_counts.items():\n",
        "        # Extract Bob's final measurement (rightmost bit)\n",
        "        bob_result = outcome[-1]\n",
        "        teleport_final_counts[bob_result] += count\n",
        "\n",
        "    print(\"=== Quantum Teleportation Verification ===\")\n",
        "    print(f\"\\nOriginal state measurement results ({shots} shots):\")\n",
        "    print(f\"  |0⟩: {ref_counts.get('0', 0)} times ({ref_counts.get('0', 0)/shots*100:.1f}%)\")\n",
        "    print(f\"  |1⟩: {ref_counts.get('1', 0)} times ({ref_counts.get('1', 0)/shots*100:.1f}%)\")\n",
        "\n",
        "    print(f\"\\nTeleported state measurement results ({shots} shots):\")\n",
        "    print(f\"  |0⟩: {teleport_final_counts['0']} times ({teleport_final_counts['0']/shots*100:.1f}%)\")\n",
        "    print(f\"  |1⟩: {teleport_final_counts['1']} times ({teleport_final_counts['1']/shots*100:.1f}%)\")\n",
        "\n",
        "    # Calculate the fidelity (how close the distributions are)\n",
        "    p0_orig = ref_counts.get('0', 0) / shots\n",
        "    p1_orig = ref_counts.get('1', 0) / shots\n",
        "    p0_teleport = teleport_final_counts['0'] / shots\n",
        "    p1_teleport = teleport_final_counts['1'] / shots\n",
        "\n",
        "    # Fidelity for probability distributions\n",
        "    fidelity = np.sqrt(p0_orig * p0_teleport) + np.sqrt(p1_orig * p1_teleport)\n",
        "\n",
        "    print(f\"\\nFidelity of teleportation: {fidelity:.4f}\")\n",
        "    print(\"(Perfect teleportation would have fidelity = 1.0)\")\n",
        "\n",
        "    # Show detailed breakdown of all measurement outcomes in teleportation\n",
        "    print(f\"\\nDetailed teleportation measurement outcomes:\")\n",
        "    print(\"Format: Alice_bit0 Alice_bit1 Bob_final_bit -> count\")\n",
        "    for outcome, count in sorted(teleport_counts.items()):\n",
        "        percentage = count/shots*100\n",
        "        print(f\"  {outcome} -> {count:4d} times ({percentage:5.1f}%)\")\n",
        "\n",
        "    return teleport_circuit, teleport_counts, ref_counts\n"
      ],
      "metadata": {
        "id": "oXtkiz4wYHqf"
      },
      "execution_count": 5,
      "outputs": []
    },
    {
      "cell_type": "code",
      "source": [
        "def visualize_circuit():\n",
        "    \"\"\"\n",
        "    Create and display the quantum teleportation circuit diagram.\n",
        "    \"\"\"\n",
        "    circuit = quantum_teleportation()\n",
        "\n",
        "    print(\"=== Quantum Teleportation Circuit ===\")\n",
        "\n",
        "    # Display the circuit using matplotlib with Clifford style\n",
        "    from IPython.display import display\n",
        "    display(circuit.draw('mpl', style='clifford', scale=1))\n",
        "\n",
        "    return circuit"
      ],
      "metadata": {
        "id": "MPdkrixxYMwa"
      },
      "execution_count": 6,
      "outputs": []
    },
    {
      "cell_type": "code",
      "source": [
        "# === THEORETICAL EXPLANATION ===\n",
        "def explain_teleportation_theory():\n",
        "    \"\"\"\n",
        "    Detailed theoretical explanation of quantum teleportation.\n",
        "    \"\"\"\n",
        "\n",
        "    print(\"=== Quantum Teleportation: Theoretical Foundation ===\\n\")\n",
        "\n",
        "    print(\"1. THE IMPOSSIBILITY OF CLONING:\")\n",
        "    print(\"   Quantum mechanics forbids perfect cloning of arbitrary quantum states\")\n",
        "    print(\"   (No-cloning theorem). Teleportation doesn't clone - it transfers the state.\\n\")\n",
        "\n",
        "    print(\"2. ENTANGLEMENT AS A RESOURCE:\")\n",
        "    print(\"   Alice and Bob share a maximally entangled Bell pair: |Φ+⟩ = (|00⟩ + |11⟩)/√2\")\n",
        "    print(\"   This shared entanglement is the 'quantum channel' that enables teleportation.\\n\")\n",
        "\n",
        "    print(\"3. THE TELEPORTATION PROTOCOL:\")\n",
        "    print(\"   Initial state: |ψ⟩⊗|Φ+⟩ = (α|0⟩ + β|1⟩) ⊗ (|00⟩ + |11⟩)/√2\")\n",
        "    print(\"   After Alice's Bell measurement, the combined state collapses into one of\")\n",
        "    print(\"   four equally probable outcomes, each leaving Bob's qubit in a related state.\\n\")\n",
        "\n",
        "    print(\"4. MEASUREMENT OUTCOMES AND CORRECTIONS:\")\n",
        "    print(\"   Alice's measurement | Bob's state | Required correction\")\n",
        "    print(\"   ------------------|-------------|------------------\")\n",
        "    print(\"         00         |     |ψ⟩     |    Identity (I)\")\n",
        "    print(\"         01         |    X|ψ⟩     |    Pauli-X\")\n",
        "    print(\"         10         |    Z|ψ⟩     |    Pauli-Z\")\n",
        "    print(\"         11         |   XZ|ψ⟩     |    Pauli-X then Z\\n\")\n",
        "\n",
        "    print(\"5. CLASSICAL COMMUNICATION:\")\n",
        "    print(\"   Alice must send her 2-bit measurement result to Bob classically.\")\n",
        "    print(\"   Without this information, Bob cannot complete the teleportation.\")\n",
        "    print(\"   This preserves causality - no faster-than-light communication!\\n\")\n",
        "\n",
        "    print(\"6. STATE DESTRUCTION:\")\n",
        "    print(\"   The original qubit's state is destroyed during Alice's measurement.\")\n",
        "    print(\"   This is fundamental - the state is moved, not copied.\\n\")"
      ],
      "metadata": {
        "id": "-IW1NKSEYPtq"
      },
      "execution_count": 7,
      "outputs": []
    },
    {
      "cell_type": "code",
      "source": [
        "# === MAIN EXECUTION ===\n",
        "if __name__ == \"__main__\":\n",
        "    # Provide theoretical background\n",
        "    explain_teleportation_theory()\n",
        "\n",
        "    # Show the circuit diagram\n",
        "    circuit = visualize_circuit()\n",
        "\n",
        "    # Run the teleportation and verify it worked\n",
        "    print(\"\\n\" + \"=\"*60)\n",
        "    teleport_circuit, teleport_counts, ref_counts = verify_teleportation()\n",
        "\n",
        "    print(\"\\n\" + \"=\"*60)\n",
        "    print(\"=== Key Insights ===\")\n",
        "    print(\"• Quantum teleportation successfully transfers quantum information\")\n",
        "    print(\"• The protocol requires both quantum entanglement and classical communication\")\n",
        "    print(\"• No information travels faster than light (respects relativity)\")\n",
        "    print(\"• The original state is destroyed (no cloning)\")\n",
        "    print(\"• Perfect fidelity is achieved in the absence of noise\")\n",
        "    print(\"• This forms the basis for quantum communication networks\")"
      ],
      "metadata": {
        "colab": {
          "base_uri": "https://localhost:8080/",
          "height": 1000
        },
        "id": "VJcfP7l6YTY0",
        "outputId": "d2d4794b-3a07-4a6f-fca7-abb65eace096"
      },
      "execution_count": 8,
      "outputs": [
        {
          "output_type": "stream",
          "name": "stdout",
          "text": [
            "=== Quantum Teleportation: Theoretical Foundation ===\n",
            "\n",
            "1. THE IMPOSSIBILITY OF CLONING:\n",
            "   Quantum mechanics forbids perfect cloning of arbitrary quantum states\n",
            "   (No-cloning theorem). Teleportation doesn't clone - it transfers the state.\n",
            "\n",
            "2. ENTANGLEMENT AS A RESOURCE:\n",
            "   Alice and Bob share a maximally entangled Bell pair: |Φ+⟩ = (|00⟩ + |11⟩)/√2\n",
            "   This shared entanglement is the 'quantum channel' that enables teleportation.\n",
            "\n",
            "3. THE TELEPORTATION PROTOCOL:\n",
            "   Initial state: |ψ⟩⊗|Φ+⟩ = (α|0⟩ + β|1⟩) ⊗ (|00⟩ + |11⟩)/√2\n",
            "   After Alice's Bell measurement, the combined state collapses into one of\n",
            "   four equally probable outcomes, each leaving Bob's qubit in a related state.\n",
            "\n",
            "4. MEASUREMENT OUTCOMES AND CORRECTIONS:\n",
            "   Alice's measurement | Bob's state | Required correction\n",
            "   ------------------|-------------|------------------\n",
            "         00         |     |ψ⟩     |    Identity (I)\n",
            "         01         |    X|ψ⟩     |    Pauli-X\n",
            "         10         |    Z|ψ⟩     |    Pauli-Z\n",
            "         11         |   XZ|ψ⟩     |    Pauli-X then Z\n",
            "\n",
            "5. CLASSICAL COMMUNICATION:\n",
            "   Alice must send her 2-bit measurement result to Bob classically.\n",
            "   Without this information, Bob cannot complete the teleportation.\n",
            "   This preserves causality - no faster-than-light communication!\n",
            "\n",
            "6. STATE DESTRUCTION:\n",
            "   The original qubit's state is destroyed during Alice's measurement.\n",
            "   This is fundamental - the state is moved, not copied.\n",
            "\n",
            "=== Quantum Teleportation Circuit ===\n"
          ]
        },
        {
          "output_type": "display_data",
          "data": {
            "text/plain": [
              "<Figure size 1625.27x367.889 with 1 Axes>"
            ],
            "image/png": "[encoded data removed]"
          },
          "metadata": {}
        },
        {
          "output_type": "stream",
          "name": "stdout",
          "text": [
            "\n",
            "============================================================\n",
            "=== Quantum Teleportation Verification ===\n",
            "\n",
            "Original state measurement results (8192 shots):\n",
            "  |0⟩: 4030 times (49.2%)\n",
            "  |1⟩: 4162 times (50.8%)\n",
            "\n",
            "Teleported state measurement results (8192 shots):\n",
            "  |0⟩: 4137 times (50.5%)\n",
            "  |1⟩: 4055 times (49.5%)\n",
            "\n",
            "Fidelity of teleportation: 0.9999\n",
            "(Perfect teleportation would have fidelity = 1.0)\n",
            "\n",
            "Detailed teleportation measurement outcomes:\n",
            "Format: Alice_bit0 Alice_bit1 Bob_final_bit -> count\n",
            "  000 -> 1067 times ( 13.0%)\n",
            "  001 -> 1001 times ( 12.2%)\n",
            "  010 -> 1018 times ( 12.4%)\n",
            "  011 -> 1021 times ( 12.5%)\n",
            "  100 -> 1023 times ( 12.5%)\n",
            "  101 -> 1020 times ( 12.5%)\n",
            "  110 -> 1029 times ( 12.6%)\n",
            "  111 -> 1013 times ( 12.4%)\n",
            "\n",
            "============================================================\n",
            "=== Key Insights ===\n",
            "• Quantum teleportation successfully transfers quantum information\n",
            "• The protocol requires both quantum entanglement and classical communication\n",
            "• No information travels faster than light (respects relativity)\n",
            "• The original state is destroyed (no cloning)\n",
            "• Perfect fidelity is achieved in the absence of noise\n",
            "• This forms the basis for quantum communication networks\n"
          ]
        }
      ]
    },
    {
      "cell_type": "code",
      "source": [],
      "metadata": {
        "id": "kLcP_kY4YW1G"
      },
      "execution_count": 8,
      "outputs": []
    }
  ]
}